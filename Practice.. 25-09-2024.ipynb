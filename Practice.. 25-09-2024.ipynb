{
 "cells": [
  {
   "cell_type": "code",
   "execution_count": 1,
   "id": "57fc1399",
   "metadata": {},
   "outputs": [],
   "source": [
    "import pandas as pd"
   ]
  },
  {
   "cell_type": "code",
   "execution_count": 2,
   "id": "0e9cf435",
   "metadata": {},
   "outputs": [
    {
     "name": "stderr",
     "output_type": "stream",
     "text": [
      "C:\\Users\\aggar\\AppData\\Local\\Temp\\ipykernel_2184\\155481366.py:1: DtypeWarning: Columns (0,4,5,7,8,9,10,11,12,13,16,19,20,23,24,25,26,27) have mixed types. Specify dtype option on import or set low_memory=False.\n",
      "  df=pd.read_csv('C:/Users/aggar/Downloads/correct_twitter_202102.tsv', sep='\\t')\n"
     ]
    },
    {
     "data": {
      "text/html": [
       "<div>\n",
       "<style scoped>\n",
       "    .dataframe tbody tr th:only-of-type {\n",
       "        vertical-align: middle;\n",
       "    }\n",
       "\n",
       "    .dataframe tbody tr th {\n",
       "        vertical-align: top;\n",
       "    }\n",
       "\n",
       "    .dataframe thead th {\n",
       "        text-align: right;\n",
       "    }\n",
       "</style>\n",
       "<table border=\"1\" class=\"dataframe\">\n",
       "  <thead>\n",
       "    <tr style=\"text-align: right;\">\n",
       "      <th></th>\n",
       "      <th>id</th>\n",
       "      <th>event</th>\n",
       "      <th>ts1</th>\n",
       "      <th>ts2</th>\n",
       "      <th>from_stream</th>\n",
       "      <th>directly_from_stream</th>\n",
       "      <th>from_search</th>\n",
       "      <th>directly_from_search</th>\n",
       "      <th>from_quote_search</th>\n",
       "      <th>directly_from_quote_search</th>\n",
       "      <th>...</th>\n",
       "      <th>retweeted</th>\n",
       "      <th>retweeted_author_id</th>\n",
       "      <th>retweeted_handle</th>\n",
       "      <th>retweeted_follower_count</th>\n",
       "      <th>mentioned_author_ids</th>\n",
       "      <th>mentioned_handles</th>\n",
       "      <th>hashtags</th>\n",
       "      <th>urls</th>\n",
       "      <th>media_keys</th>\n",
       "      <th>place_id</th>\n",
       "    </tr>\n",
       "  </thead>\n",
       "  <tbody>\n",
       "    <tr>\n",
       "      <th>0</th>\n",
       "      <td>1358322479136178177</td>\n",
       "      <td>britney_202102</td>\n",
       "      <td>2022-03-01 09:06:52.403595-05:00</td>\n",
       "      <td>2022-03-01 09:06:52.403595-05:00</td>\n",
       "      <td>True</td>\n",
       "      <td>True</td>\n",
       "      <td>False</td>\n",
       "      <td>False</td>\n",
       "      <td>False</td>\n",
       "      <td>False</td>\n",
       "      <td>...</td>\n",
       "      <td>1358248863887458304</td>\n",
       "      <td>93259372</td>\n",
       "      <td>briebxrries</td>\n",
       "      <td>1002</td>\n",
       "      <td>None</td>\n",
       "      <td>None</td>\n",
       "      <td>None</td>\n",
       "      <td>None</td>\n",
       "      <td>None</td>\n",
       "      <td>None</td>\n",
       "    </tr>\n",
       "    <tr>\n",
       "      <th>1</th>\n",
       "      <td>1358323016736796677</td>\n",
       "      <td>britney_202102</td>\n",
       "      <td>2022-01-05 08:34:04.477789-05:00</td>\n",
       "      <td>2022-03-01 09:06:52.398778-05:00</td>\n",
       "      <td>True</td>\n",
       "      <td>True</td>\n",
       "      <td>False</td>\n",
       "      <td>False</td>\n",
       "      <td>False</td>\n",
       "      <td>False</td>\n",
       "      <td>...</td>\n",
       "      <td>1358189171500843011</td>\n",
       "      <td>17525171</td>\n",
       "      <td>Variety</td>\n",
       "      <td>2669599</td>\n",
       "      <td>None</td>\n",
       "      <td>None</td>\n",
       "      <td>['FreeBritney']</td>\n",
       "      <td>None</td>\n",
       "      <td>None</td>\n",
       "      <td>None</td>\n",
       "    </tr>\n",
       "    <tr>\n",
       "      <th>2</th>\n",
       "      <td>1358322996696465409</td>\n",
       "      <td>britney_202102</td>\n",
       "      <td>2022-03-01 09:06:52.399008-05:00</td>\n",
       "      <td>2022-03-01 09:06:52.399008-05:00</td>\n",
       "      <td>True</td>\n",
       "      <td>True</td>\n",
       "      <td>False</td>\n",
       "      <td>False</td>\n",
       "      <td>False</td>\n",
       "      <td>False</td>\n",
       "      <td>...</td>\n",
       "      <td>1358200732609097734</td>\n",
       "      <td>403576578</td>\n",
       "      <td>Johnnerkell</td>\n",
       "      <td>2650</td>\n",
       "      <td>None</td>\n",
       "      <td>None</td>\n",
       "      <td>None</td>\n",
       "      <td>None</td>\n",
       "      <td>None</td>\n",
       "      <td>None</td>\n",
       "    </tr>\n",
       "    <tr>\n",
       "      <th>3</th>\n",
       "      <td>1358322976769286151</td>\n",
       "      <td>britney_202102</td>\n",
       "      <td>2022-03-01 09:06:52.399205-05:00</td>\n",
       "      <td>2022-03-01 09:06:52.399205-05:00</td>\n",
       "      <td>True</td>\n",
       "      <td>True</td>\n",
       "      <td>False</td>\n",
       "      <td>False</td>\n",
       "      <td>False</td>\n",
       "      <td>False</td>\n",
       "      <td>...</td>\n",
       "      <td>1358237823648825348</td>\n",
       "      <td>4429003533</td>\n",
       "      <td>PopCrave</td>\n",
       "      <td>880695</td>\n",
       "      <td>None</td>\n",
       "      <td>None</td>\n",
       "      <td>['FramingBritney']</td>\n",
       "      <td>None</td>\n",
       "      <td>None</td>\n",
       "      <td>None</td>\n",
       "    </tr>\n",
       "    <tr>\n",
       "      <th>4</th>\n",
       "      <td>1368923802260889606</td>\n",
       "      <td>britney_202102</td>\n",
       "      <td>2022-03-01 07:26:05.505986-05:00</td>\n",
       "      <td>2022-03-01 07:26:05.505986-05:00</td>\n",
       "      <td>True</td>\n",
       "      <td>True</td>\n",
       "      <td>False</td>\n",
       "      <td>False</td>\n",
       "      <td>False</td>\n",
       "      <td>False</td>\n",
       "      <td>...</td>\n",
       "      <td>None</td>\n",
       "      <td>None</td>\n",
       "      <td>None</td>\n",
       "      <td>None</td>\n",
       "      <td>None</td>\n",
       "      <td>None</td>\n",
       "      <td>None</td>\n",
       "      <td>None</td>\n",
       "      <td>None</td>\n",
       "      <td>None</td>\n",
       "    </tr>\n",
       "  </tbody>\n",
       "</table>\n",
       "<p>5 rows × 46 columns</p>\n",
       "</div>"
      ],
      "text/plain": [
       "                    id           event                               ts1  \\\n",
       "0  1358322479136178177  britney_202102  2022-03-01 09:06:52.403595-05:00   \n",
       "1  1358323016736796677  britney_202102  2022-01-05 08:34:04.477789-05:00   \n",
       "2  1358322996696465409  britney_202102  2022-03-01 09:06:52.399008-05:00   \n",
       "3  1358322976769286151  britney_202102  2022-03-01 09:06:52.399205-05:00   \n",
       "4  1368923802260889606  britney_202102  2022-03-01 07:26:05.505986-05:00   \n",
       "\n",
       "                                ts2 from_stream directly_from_stream  \\\n",
       "0  2022-03-01 09:06:52.403595-05:00        True                 True   \n",
       "1  2022-03-01 09:06:52.398778-05:00        True                 True   \n",
       "2  2022-03-01 09:06:52.399008-05:00        True                 True   \n",
       "3  2022-03-01 09:06:52.399205-05:00        True                 True   \n",
       "4  2022-03-01 07:26:05.505986-05:00        True                 True   \n",
       "\n",
       "   from_search directly_from_search from_quote_search  \\\n",
       "0        False                False             False   \n",
       "1        False                False             False   \n",
       "2        False                False             False   \n",
       "3        False                False             False   \n",
       "4        False                False             False   \n",
       "\n",
       "  directly_from_quote_search  ...            retweeted retweeted_author_id  \\\n",
       "0                      False  ...  1358248863887458304            93259372   \n",
       "1                      False  ...  1358189171500843011            17525171   \n",
       "2                      False  ...  1358200732609097734           403576578   \n",
       "3                      False  ...  1358237823648825348          4429003533   \n",
       "4                      False  ...                 None                None   \n",
       "\n",
       "  retweeted_handle retweeted_follower_count mentioned_author_ids  \\\n",
       "0      briebxrries                     1002                 None   \n",
       "1          Variety                  2669599                 None   \n",
       "2      Johnnerkell                     2650                 None   \n",
       "3         PopCrave                   880695                 None   \n",
       "4             None                     None                 None   \n",
       "\n",
       "  mentioned_handles            hashtags  urls media_keys place_id  \n",
       "0              None                None  None       None     None  \n",
       "1              None     ['FreeBritney']  None       None     None  \n",
       "2              None                None  None       None     None  \n",
       "3              None  ['FramingBritney']  None       None     None  \n",
       "4              None                None  None       None     None  \n",
       "\n",
       "[5 rows x 46 columns]"
      ]
     },
     "execution_count": 2,
     "metadata": {},
     "output_type": "execute_result"
    }
   ],
   "source": [
    "df=pd.read_csv('C:/Users/aggar/Downloads/correct_twitter_202102.tsv', sep='\\t')\n",
    "df.head()"
   ]
  },
  {
   "cell_type": "code",
   "execution_count": 3,
   "id": "08b8e72d",
   "metadata": {},
   "outputs": [
    {
     "data": {
      "text/plain": [
       "(845730, 46)"
      ]
     },
     "execution_count": 3,
     "metadata": {},
     "output_type": "execute_result"
    }
   ],
   "source": [
    "df.shape"
   ]
  },
  {
   "cell_type": "code",
   "execution_count": 4,
   "id": "a6a90456",
   "metadata": {},
   "outputs": [
    {
     "name": "stdout",
     "output_type": "stream",
     "text": [
      "ts1\n",
      "2022-01-04      37\n",
      "2022-01-05     318\n",
      "2022-01-22       2\n",
      "2022-03-01    2219\n",
      "dtype: int64\n"
     ]
    }
   ],
   "source": [
    "1.\n",
    "# Convert the 'date' column to datetime format if not already\n",
    "df['ts1'] = pd.to_datetime(df['ts1'], errors='coerce').dt.date\n",
    "\n",
    "# the term you want to search\n",
    "search_term = \"music\"\n",
    "\n",
    "# Filter the rows where it contains the specific term\n",
    "filtered_df = df[df['author_handle'].str.contains(search_term, case=False, na=False)]\n",
    "\n",
    "# Group by date and count the number of tweets per day\n",
    "tweet_counts_per_day = filtered_df.groupby('ts1').size()\n",
    "\n",
    "print(tweet_counts_per_day)"
   ]
  },
  {
   "cell_type": "code",
   "execution_count": 5,
   "id": "994bcbe2",
   "metadata": {},
   "outputs": [
    {
     "name": "stdout",
     "output_type": "stream",
     "text": [
      "The number of unique users who posted tweets containing the term: 2576\n"
     ]
    }
   ],
   "source": [
    "2.\n",
    "# the term you want to search \n",
    "\n",
    "search_term = \"music\"\n",
    "\n",
    "# Filter the rows where itcontains the specific term\n",
    "\n",
    "filtered_df = df[df['author_handle'].str.contains(search_term, case=False, na=False)]\n",
    "\n",
    "# Get the number of unique users who posted tweets containing the term-music\n",
    "\n",
    "unique_users = filtered_df['id'].nunique()\n",
    "    \n",
    "print(f'The number of unique users who posted tweets containing the term: {unique_users}')\n"
   ]
  },
  {
   "cell_type": "code",
   "execution_count": 6,
   "id": "180e72c9",
   "metadata": {},
   "outputs": [
    {
     "name": "stdout",
     "output_type": "stream",
     "text": [
      "The average number of likes for tweets containing the term: 175.80\n"
     ]
    },
    {
     "name": "stderr",
     "output_type": "stream",
     "text": [
      "C:\\Users\\aggar\\AppData\\Local\\Temp\\ipykernel_2184\\3332101212.py:9: SettingWithCopyWarning: \n",
      "A value is trying to be set on a copy of a slice from a DataFrame.\n",
      "Try using .loc[row_indexer,col_indexer] = value instead\n",
      "\n",
      "See the caveats in the documentation: https://pandas.pydata.org/pandas-docs/stable/user_guide/indexing.html#returning-a-view-versus-a-copy\n",
      "  filtered_df['like_count'] = pd.to_numeric(filtered_df['like_count'], errors='coerce')\n"
     ]
    }
   ],
   "source": [
    "3.\n",
    "# Specify the term you want to search for\n",
    "search_term = \"music\"\n",
    "\n",
    "# Filter the rows where it contains the specific term\n",
    "filtered_df = df[df['author_handle'].str.contains(search_term, case=False, na=False)]\n",
    "\n",
    "# Convert the 'like' column to numeric, invalid parsing will be set as NaN\n",
    "filtered_df['like_count'] = pd.to_numeric(filtered_df['like_count'], errors='coerce')\n",
    "\n",
    "# Calculate the average number of likes for the filtered tweets\n",
    "average_likes = filtered_df['like_count'].mean()\n",
    "\n",
    "print(f'The average number of likes for tweets containing the term: {average_likes:.2f}')"
   ]
  },
  {
   "cell_type": "code",
   "execution_count": 7,
   "id": "e11c9ec0",
   "metadata": {},
   "outputs": [
    {
     "name": "stdout",
     "output_type": "stream",
     "text": [
      "Unique place IDs for tweets containing the term: ['None' '011add077f4d2da3' 'dd9c503d6c35364b' '575c6d4e1b73546d'\n",
      " '06b9691f34c91d1c' '300bcc6e23a88361' '00482e135814d8a7'\n",
      " '659395aaea6aa724' '9f4583bf6dae13c4' 'c95cdb2a983262e5'\n",
      " 'a592bd6ceb1319f7' '23a06e5cc6d83009']\n"
     ]
    }
   ],
   "source": [
    "4.\n",
    "# Specify the term you want to search for\n",
    "search_term = \"music\"\n",
    "\n",
    "# Filter the rows where it contains the specific term\n",
    "filtered_df = df[df['author_handle'].str.contains(search_term, case=False, na=False)]\n",
    "\n",
    "# Get the unique place IDs from the filtered DataFrame\n",
    "unique_place_ids = filtered_df['place_id'].dropna().unique()\n",
    "\n",
    "print(f'Unique place IDs for tweets containing the term: {unique_place_ids}')"
   ]
  },
  {
   "cell_type": "code",
   "execution_count": 16,
   "id": "ba68b283",
   "metadata": {},
   "outputs": [
    {
     "name": "stdout",
     "output_type": "stream",
     "text": [
      "0.0    845726\n",
      "Name: hour, dtype: int64\n"
     ]
    }
   ],
   "source": [
    "5.\n",
    "# Convert the 'ts1' column to datetime format\n",
    "df['ts1'] = pd.to_datetime(df['ts1'], errors='coerce')\n",
    "\n",
    "# Check the data types after conversion\n",
    "#print(df.dtypes)\n",
    "\n",
    "# Optional: Check the first few rows to ensure proper conversion\n",
    "#print(df['ts1'].head())\n",
    "\n",
    "# Extract the hour from the 'timestamp' column\n",
    "df['hour'] = df['ts1'].dt.hour\n",
    "\n",
    "# Convert the 'timestamp' column to datetime, invalid parsing will be set as NaT\n",
    "df['ts1'] = pd.to_datetime(df['ts1'], errors='coerce')\n",
    "\n",
    "# Check if there are any rows where conversion failed (i.e., 'NaT' values)\n",
    "#invalid_timestamps = df[df['ts1'].isna()]\n",
    "#print(f\"Invalid timestamps:\\n{invalid_timestamps}\")\n",
    "\n",
    "# Extract the hour from the 'timestamp' column for valid entries\n",
    "df['hour'] = df['ts1'].dt.hour\n",
    "\n",
    "# Get the number of tweets posted at each hour\n",
    "tweets_by_hour = df['hour'].value_counts().sort_index()\n",
    "\n",
    "print(tweets_by_hour)"
   ]
  },
  {
   "cell_type": "code",
   "execution_count": 24,
   "id": "255dc4d1",
   "metadata": {},
   "outputs": [
    {
     "name": "stdout",
     "output_type": "stream",
     "text": [
      "The user with the most tweets containing the term is: 1344872116122841088 with 1 tweets.\n"
     ]
    }
   ],
   "source": [
    "6.\n",
    "# Specify the term you want to search for\n",
    "search_term = \"music\"\n",
    "\n",
    "# Step 1: Filter the rows where 'tweet_text' contains the specific term\n",
    "filtered_df = df[df['author_handle'].str.contains(search_term, case=False, na=False)]\n",
    "\n",
    "# Step 2: Group by 'user_id' and count the number of tweets per user\n",
    "tweet_counts_by_user = filtered_df.groupby('id').size()\n",
    "\n",
    "# Step 3: Find the user with the maximum number of tweets\n",
    "most_active_user = tweet_counts_by_user.idxmax()\n",
    "most_tweets_count = tweet_counts_by_user.max()\n",
    "\n",
    "print(f'The user with the most tweets containing the term is: {most_active_user} with {most_tweets_count} tweets.')"
   ]
  }
 ],
 "metadata": {
  "kernelspec": {
   "display_name": "Python 3 (ipykernel)",
   "language": "python",
   "name": "python3"
  },
  "language_info": {
   "codemirror_mode": {
    "name": "ipython",
    "version": 3
   },
   "file_extension": ".py",
   "mimetype": "text/x-python",
   "name": "python",
   "nbconvert_exporter": "python",
   "pygments_lexer": "ipython3",
   "version": "3.9.13"
  }
 },
 "nbformat": 4,
 "nbformat_minor": 5
}
